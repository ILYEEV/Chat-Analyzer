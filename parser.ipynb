{
 "cells": [
  {
   "cell_type": "code",
   "execution_count": 1,
   "metadata": {
    "collapsed": true
   },
   "outputs": [],
   "source": [
    "from bs4 import BeautifulSoup\n",
    "import pandas as pd\n",
    "import numpy as np\n",
    "import re"
   ]
  },
  {
   "cell_type": "code",
   "execution_count": 2,
   "metadata": {
    "collapsed": true
   },
   "outputs": [],
   "source": [
    "html_doc = open(\"messages.html\", \"r\")\n",
    "html_doc = html_doc.read()\n",
    "soup = BeautifulSoup(html_doc, 'html.parser')\n",
    "texts = soup.find_all(\"div\", {\"class\":[\"pull_right date details\",  \"text\"]})\n",
    "msgs = []\n",
    "for i in texts:\n",
    "    if(i[\"class\"][0] == \"text\"):\n",
    "        msgs.append(i.text.replace('\\n', ''))\n",
    "    if(i[\"class\"][0] == \"pull_right\"):\n",
    "        msgs.append(int(i['title'].split()[0].split('.')[0]))\n",
    "msgs.pop(0)\n",
    "\n",
    "alphabet = ['а','б','в','г','д','е','ё','ж','з','и','й','к','л','м','н','о','п','р','с','т','у','ф','х','ц','ч','ш','щ','ъ','ы','ь','э','ю','я', ' ']\n",
    "def to_lower_letters(text):\n",
    "    nt = \"\"\n",
    "    text = text.lower()\n",
    "    for i in text:\n",
    "        if(i in alphabet):\n",
    "            nt += i\n",
    "    return nt"
   ]
  },
  {
   "cell_type": "code",
   "execution_count": 3,
   "metadata": {
    "collapsed": true,
    "scrolled": true
   },
   "outputs": [],
   "source": [
    "days = []\n",
    "messages = []\n",
    "day = 0\n",
    "for i in range(len(msgs)):\n",
    "    if(type(msgs[i]) == int):\n",
    "        day = msgs[i]\n",
    "    if(type(msgs[i]) == str):\n",
    "        msg = to_lower_letters(msgs[i])\n",
    "        \"\"\"if(day in days):\n",
    "            messages[days.index(day)] = messages[days.index(day)] + \" \" + msgs[i]\n",
    "        else:\"\"\"\n",
    "        messages.append(msg)\n",
    "        days.append(day)"
   ]
  },
  {
   "cell_type": "code",
   "execution_count": 4,
   "metadata": {
    "collapsed": true
   },
   "outputs": [],
   "source": [
    "di = {\"day\":  days, \"message\": messages}"
   ]
  },
  {
   "cell_type": "code",
   "execution_count": 5,
   "metadata": {
    "collapsed": true
   },
   "outputs": [],
   "source": [
    "test = pd.DataFrame(di)\n",
    "test = test[test.message.apply(lambda x: len(x.strip()) > 3)]"
   ]
  },
  {
   "cell_type": "code",
   "execution_count": 6,
   "metadata": {
    "collapsed": true
   },
   "outputs": [],
   "source": [
    "test.to_csv('test.csv')"
   ]
  }
 ],
 "metadata": {
  "kernelspec": {
   "display_name": "Python 3",
   "language": "python",
   "name": "python3"
  },
  "language_info": {
   "codemirror_mode": {
    "name": "ipython",
    "version": 3
   },
   "file_extension": ".py",
   "mimetype": "text/x-python",
   "name": "python",
   "nbconvert_exporter": "python",
   "pygments_lexer": "ipython3",
   "version": "3.6.2"
  }
 },
 "nbformat": 4,
 "nbformat_minor": 2
}
