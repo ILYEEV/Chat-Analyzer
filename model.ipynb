{
 "cells": [
  {
   "cell_type": "code",
   "execution_count": 1,
   "metadata": {
    "collapsed": true
   },
   "outputs": [],
   "source": [
    "import numpy as np\n",
    "import pandas as pd\n",
    "from sklearn.model_selection import train_test_split\n",
    "from sklearn.linear_model import LogisticRegression\n",
    "from sklearn.metrics import roc_auc_score\n",
    "from matplotlib import pyplot as plt\n",
    "%matplotlib inline"
   ]
  },
  {
   "cell_type": "code",
   "execution_count": 2,
   "metadata": {
    "collapsed": true
   },
   "outputs": [],
   "source": [
    "df = pd.read_csv('train.csv', error_bad_lines=False)"
   ]
  },
  {
   "cell_type": "code",
   "execution_count": 3,
   "metadata": {
    "collapsed": true
   },
   "outputs": [],
   "source": [
    "df.head();"
   ]
  },
  {
   "cell_type": "code",
   "execution_count": 4,
   "metadata": {
    "collapsed": true
   },
   "outputs": [],
   "source": [
    "from sklearn.feature_extraction.text import TfidfVectorizer\n",
    "\n",
    "vectorizer = TfidfVectorizer(min_df=5)\n",
    "X = vectorizer.fit_transform(df.text)"
   ]
  },
  {
   "cell_type": "code",
   "execution_count": 5,
   "metadata": {
    "collapsed": true
   },
   "outputs": [],
   "source": [
    "Y = df.type"
   ]
  },
  {
   "cell_type": "code",
   "execution_count": 6,
   "metadata": {
    "collapsed": true,
    "scrolled": true
   },
   "outputs": [],
   "source": [
    "X_train, X_test, Y_train, Y_test = train_test_split(X, Y,random_state=25)\n",
    "md = LogisticRegression(C=6)\n",
    "md.fit(X_train, Y_train);"
   ]
  },
  {
   "cell_type": "code",
   "execution_count": 7,
   "metadata": {},
   "outputs": [
    {
     "name": "stdout",
     "output_type": "stream",
     "text": [
      "Обучение:\n",
      "0.887928051809\n",
      "Тест:\n",
      "0.799312099749\n",
      "[[ 0.22664241  0.77335759]]\n"
     ]
    }
   ],
   "source": [
    "print(\"Обучение:\")\n",
    "pred = md.predict_proba(X_train)\n",
    "print(roc_auc_score(Y_train,pred[:,1]))\n",
    "\n",
    "print(\"Тест:\")\n",
    "pred = md.predict_proba(X_test)\n",
    "print(roc_auc_score(Y_test,pred[:,1]))\n",
    "a = vectorizer.transform([\"Все было офигенно\"])\n",
    "print(md.predict_proba(a))"
   ]
  },
  {
   "cell_type": "code",
   "execution_count": 8,
   "metadata": {
    "collapsed": true
   },
   "outputs": [],
   "source": [
    "test = pd.read_csv('test.csv')"
   ]
  },
  {
   "cell_type": "code",
   "execution_count": 9,
   "metadata": {},
   "outputs": [
    {
     "data": {
      "text/plain": [
       "pandas.core.series.Series"
      ]
     },
     "execution_count": 9,
     "metadata": {},
     "output_type": "execute_result"
    }
   ],
   "source": [
    "\n",
    "days = test.day\n",
    "test.head()\n",
    "type(test.message)"
   ]
  },
  {
   "cell_type": "code",
   "execution_count": 10,
   "metadata": {
    "collapsed": true
   },
   "outputs": [],
   "source": [
    "conv_test = vectorizer.transform(test.message)\n",
    "pred = md.predict_proba(conv_test)\n",
    "pred *= 100\n",
    "pred = pred.round()\n",
    "pred = pred.tolist()\n",
    "positivities = []\n",
    "negativities = []\n",
    "messages = test.message.tolist()"
   ]
  },
  {
   "cell_type": "code",
   "execution_count": 11,
   "metadata": {
    "collapsed": true
   },
   "outputs": [],
   "source": [
    "for i in range(len(pred)):\n",
    "    positivities.append(pred[i][1])\n",
    "    negativities.append(pred[i][0])"
   ]
  },
  {
   "cell_type": "code",
   "execution_count": 12,
   "metadata": {
    "collapsed": true
   },
   "outputs": [],
   "source": [
    "tbl = pd.DataFrame({\n",
    "    \"Day\": days,\n",
    "    \"Positivity\": positivities,\n",
    "    \"Negativity\": negativities,\n",
    "    \"Message\": messages\n",
    "})\n",
    "\n"
   ]
  },
  {
   "cell_type": "code",
   "execution_count": 61,
   "metadata": {},
   "outputs": [
    {
     "name": "stdout",
     "output_type": "stream",
     "text": [
      "15.0\n"
     ]
    }
   ],
   "source": [
    "dayTable = pd.DataFrame()\n",
    "dayTable.Day = np.unique(tbl.Day)\n",
    "\n",
    "dayTable.Day\n",
    "positivities = []\n",
    "negativities = []\n",
    "for i in range(len(dayTable.Day)):\n",
    "    positivities.append(np.mean(tbl[tbl.Day == dayTable.Day[i]]))\n",
    "print(positivities[0][0])\n",
    "dayTable = pd.DataFrame(columns = [\"Day\", \"Positivity\", \"Negativity\"])\n",
    "for i in range(len(positivities)):\n",
    "    m = pd.DataFrame({\n",
    "        \"Day\": int(positivities[i][0]) ,\n",
    "        \"Positivity\":int(positivities[i][2]) ,\n",
    "        \"Negativity\":int(positivities[i][1]) \n",
    "    }, index = [1])\n",
    "    dayTable = pd.concat([dayTable, m])\n",
    "    dayTable.to_csv(\"testday.csv\")"
   ]
  },
  {
   "cell_type": "code",
   "execution_count": 14,
   "metadata": {
    "scrolled": true
   },
   "outputs": [
    {
     "data": {
      "text/html": [
       "<div>\n",
       "<style>\n",
       "    .dataframe thead tr:only-child th {\n",
       "        text-align: right;\n",
       "    }\n",
       "\n",
       "    .dataframe thead th {\n",
       "        text-align: left;\n",
       "    }\n",
       "\n",
       "    .dataframe tbody tr th {\n",
       "        vertical-align: top;\n",
       "    }\n",
       "</style>\n",
       "<table border=\"1\" class=\"dataframe\">\n",
       "  <thead>\n",
       "    <tr style=\"text-align: right;\">\n",
       "      <th></th>\n",
       "      <th>Day</th>\n",
       "      <th>Negativity</th>\n",
       "      <th>Positivity</th>\n",
       "    </tr>\n",
       "  </thead>\n",
       "  <tbody>\n",
       "    <tr>\n",
       "      <th>1</th>\n",
       "      <td>15</td>\n",
       "      <td>36</td>\n",
       "      <td>63</td>\n",
       "    </tr>\n",
       "    <tr>\n",
       "      <th>1</th>\n",
       "      <td>16</td>\n",
       "      <td>41</td>\n",
       "      <td>58</td>\n",
       "    </tr>\n",
       "    <tr>\n",
       "      <th>1</th>\n",
       "      <td>17</td>\n",
       "      <td>37</td>\n",
       "      <td>62</td>\n",
       "    </tr>\n",
       "    <tr>\n",
       "      <th>1</th>\n",
       "      <td>18</td>\n",
       "      <td>33</td>\n",
       "      <td>66</td>\n",
       "    </tr>\n",
       "    <tr>\n",
       "      <th>1</th>\n",
       "      <td>19</td>\n",
       "      <td>37</td>\n",
       "      <td>62</td>\n",
       "    </tr>\n",
       "    <tr>\n",
       "      <th>1</th>\n",
       "      <td>20</td>\n",
       "      <td>46</td>\n",
       "      <td>53</td>\n",
       "    </tr>\n",
       "    <tr>\n",
       "      <th>1</th>\n",
       "      <td>21</td>\n",
       "      <td>40</td>\n",
       "      <td>59</td>\n",
       "    </tr>\n",
       "    <tr>\n",
       "      <th>1</th>\n",
       "      <td>22</td>\n",
       "      <td>43</td>\n",
       "      <td>56</td>\n",
       "    </tr>\n",
       "  </tbody>\n",
       "</table>\n",
       "</div>"
      ],
      "text/plain": [
       "  Day Negativity Positivity\n",
       "1  15         36         63\n",
       "1  16         41         58\n",
       "1  17         37         62\n",
       "1  18         33         66\n",
       "1  19         37         62\n",
       "1  20         46         53\n",
       "1  21         40         59\n",
       "1  22         43         56"
      ]
     },
     "execution_count": 14,
     "metadata": {},
     "output_type": "execute_result"
    }
   ],
   "source": [
    "dayTable"
   ]
  },
  {
   "cell_type": "code",
   "execution_count": 15,
   "metadata": {
    "collapsed": true
   },
   "outputs": [],
   "source": [
    "#tbl.to_csv('stats.csv')\n",
    "#dayTable.to_csv('')"
   ]
  },
  {
   "cell_type": "code",
   "execution_count": 16,
   "metadata": {
    "scrolled": true
   },
   "outputs": [
    {
     "data": {
      "text/html": [
       "<div>\n",
       "<style>\n",
       "    .dataframe thead tr:only-child th {\n",
       "        text-align: right;\n",
       "    }\n",
       "\n",
       "    .dataframe thead th {\n",
       "        text-align: left;\n",
       "    }\n",
       "\n",
       "    .dataframe tbody tr th {\n",
       "        vertical-align: top;\n",
       "    }\n",
       "</style>\n",
       "<table border=\"1\" class=\"dataframe\">\n",
       "  <thead>\n",
       "    <tr style=\"text-align: right;\">\n",
       "      <th></th>\n",
       "      <th>Day</th>\n",
       "      <th>Message</th>\n",
       "      <th>Negativity</th>\n",
       "      <th>Positivity</th>\n",
       "    </tr>\n",
       "  </thead>\n",
       "  <tbody>\n",
       "    <tr>\n",
       "      <th>0</th>\n",
       "      <td>15</td>\n",
       "      <td>кто уже бывал в гоуту просьба пройти в  учебку...</td>\n",
       "      <td>13.0</td>\n",
       "      <td>87.0</td>\n",
       "    </tr>\n",
       "    <tr>\n",
       "      <th>1</th>\n",
       "      <td>15</td>\n",
       "      <td>а кто хочет размяться и поиграть в волейбол ил...</td>\n",
       "      <td>60.0</td>\n",
       "      <td>40.0</td>\n",
       "    </tr>\n",
       "    <tr>\n",
       "      <th>2</th>\n",
       "      <td>16</td>\n",
       "      <td>чат кмб</td>\n",
       "      <td>36.0</td>\n",
       "      <td>64.0</td>\n",
       "    </tr>\n",
       "    <tr>\n",
       "      <th>3</th>\n",
       "      <td>16</td>\n",
       "      <td>последняя строка</td>\n",
       "      <td>83.0</td>\n",
       "      <td>17.0</td>\n",
       "    </tr>\n",
       "    <tr>\n",
       "      <th>4</th>\n",
       "      <td>16</td>\n",
       "      <td>чтобы задачник работал</td>\n",
       "      <td>28.0</td>\n",
       "      <td>72.0</td>\n",
       "    </tr>\n",
       "  </tbody>\n",
       "</table>\n",
       "</div>"
      ],
      "text/plain": [
       "   Day                                            Message  Negativity  \\\n",
       "0   15  кто уже бывал в гоуту просьба пройти в  учебку...        13.0   \n",
       "1   15  а кто хочет размяться и поиграть в волейбол ил...        60.0   \n",
       "2   16                                           чат кмб         36.0   \n",
       "3   16                            последняя строка               83.0   \n",
       "4   16                      чтобы задачник работал               28.0   \n",
       "\n",
       "   Positivity  \n",
       "0        87.0  \n",
       "1        40.0  \n",
       "2        64.0  \n",
       "3        17.0  \n",
       "4        72.0  "
      ]
     },
     "execution_count": 16,
     "metadata": {},
     "output_type": "execute_result"
    }
   ],
   "source": [
    "tbl.head()"
   ]
  },
  {
   "cell_type": "code",
   "execution_count": 38,
   "metadata": {
    "scrolled": false
   },
   "outputs": [],
   "source": [
    "def predict(pr):\n",
    "    a = vectorizer.transform(pr)\n",
    "    return md.predict_proba(a)\n",
    "\n",
    "def show(data):\n",
    "    y = [3, 10, 7, 5, 3, 4.5, 6, 8.1]\n",
    "    N = len(y)\n",
    "    x = range(N)\n",
    "    width = 1/1.5\n",
    "    Y = (data*100)[0].tolist()\n",
    "    Y = np.array(Y).round().tolist()\n",
    "    for i in range(len(Y)):\n",
    "        Y[i] = int(Y[i])\n",
    "    print(Y)\n",
    "    bars = plt.bar(range(len(Y)), Y, width, color=\"\")\n",
    "    plt.ylim(0, 100)\n",
    "    bars[0].set_color(\"#DC143C\")\n",
    "    bars[1].set_color(\"#00FF00\")\n",
    "    plt.show()\n",
    "\n",
    "def pl(text):\n",
    "    show(predict(text))"
   ]
  },
  {
   "cell_type": "code",
   "execution_count": 60,
   "metadata": {},
   "outputs": [
    {
     "name": "stdout",
     "output_type": "stream",
     "text": [
      "в молодости я бегал за юбками, но все бы ничего если это было в шотландии\n",
      "[27, 73]\n"
     ]
    },
    {
     "data": {
      "image/png": "[encoded data removed]",
      "text/plain": [
       "<matplotlib.figure.Figure at 0x7f20a9a6b710>"
      ]
     },
     "metadata": {},
     "output_type": "display_data"
    }
   ],
   "source": [
    "pl([input()])"
   ]
  },
  {
   "cell_type": "code",
   "execution_count": 45,
   "metadata": {
    "collapsed": true
   },
   "outputs": [],
   "source": [
    "#Telegram bot(copy paste)\n"
   ]
  },
  {
   "cell_type": "code",
   "execution_count": null,
   "metadata": {
    "collapsed": true
   },
   "outputs": [],
   "source": []
  }
 ],
 "metadata": {
  "kernelspec": {
   "display_name": "Python 3",
   "language": "python",
   "name": "python3"
  },
  "language_info": {
   "codemirror_mode": {
    "name": "ipython",
    "version": 3
   },
   "file_extension": ".py",
   "mimetype": "text/x-python",
   "name": "python",
   "nbconvert_exporter": "python",
   "pygments_lexer": "ipython3",
   "version": "3.6.2"
  }
 },
 "nbformat": 4,
 "nbformat_minor": 2
}
